{
 "cells": [
  {
   "cell_type": "markdown",
   "metadata": {},
   "source": [
    "# Reading Files"
   ]
  },
  {
   "cell_type": "code",
   "execution_count": null,
   "metadata": {
    "collapsed": false
   },
   "outputs": [],
   "source": [
    "from os import listdir\n",
    "import xml.etree.ElementTree as ET\n",
    "\n",
    "class BoardGame:\n",
    "    def __init__(self, root):\n",
    "        self.id = root.attrib[\"id\"].strip()\n",
    "        nameTags = root.findall(\"name\")\n",
    "        for n in nameTags:\n",
    "            if n.attrib[\"type\"] == \"primary\":\n",
    "                self.name = n.attrib[\"value\"]\n",
    "        self.description = \"\"\n",
    "        if root.find(\"description\").text != None:\n",
    "            self.description = root.find(\"description\").text.strip()\n",
    "        self.year = root.find(\"yearpublished\").attrib[\"value\"]\n",
    "        minPlayers = 0\n",
    "        if len(root.find(\"minplayers\").attrib[\"value\"].strip()) != 0:\n",
    "            minPlayers = int(root.find(\"minplayers\").attrib[\"value\"])\n",
    "        maxPlayers = 0\n",
    "        if len(root.find(\"maxplayers\").attrib[\"value\"].strip()) != 0:\n",
    "            minPlayers = int(root.find(\"maxplayers\").attrib[\"value\"])\n",
    "        self.numPlayer = (minPlayers, maxPlayers)\n",
    "        self.playTime = 0\n",
    "        if len(root.find(\"playingtime\").attrib[\"value\"]) != 0:\n",
    "            self.playTime = int(root.find(\"playingtime\").attrib[\"value\"])\n",
    "        self.minAge = 0\n",
    "        if len(root.find(\"minage\").attrib[\"value\"]) != 0:\n",
    "            self.minAge = int(root.find(\"minage\").attrib[\"value\"])\n",
    "        self.mechanics = []\n",
    "        self.family = []\n",
    "        self.category = []\n",
    "        self.implementations = []\n",
    "        xmlLinkLists = root.findall(\"link\")\n",
    "        for l in xmlLinkLists:\n",
    "            if l.attrib[\"type\"] == \"boardgamemechanic\":\n",
    "                self.mechanics.append((l.attrib[\"id\"].strip(), l.attrib[\"value\"].strip()))\n",
    "            if l.attrib[\"type\"] == \"boardgamecategory\":\n",
    "                self.category.append((l.attrib[\"id\"].strip(), l.attrib[\"value\"].strip()))\n",
    "            if l.attrib[\"type\"] == \"boardgamefamily\":\n",
    "                self.family.append((l.attrib[\"id\"].strip(), l.attrib[\"value\"].strip()))\n",
    "            if l.attrib[\"type\"] == \"boardgameimplementation\":\n",
    "                self.implementations.append(l.attrib[\"id\"].strip())\n",
    "        self.usersRating = int(root.find(\"statistics\")[0].find(\"usersrated\").attrib[\"value\"])\n",
    "        self.usersOwned = int(root.find(\"statistics\")[0].find(\"owned\").attrib[\"value\"])\n",
    "        self.avgRating = float(root.find(\"statistics\")[0].find(\"average\").attrib[\"value\"])\n",
    "        self.medRating = float(root.find(\"statistics\")[0].find(\"median\").attrib[\"value\"])\n",
    "        self.stdRating = float(root.find(\"statistics\")[0].find(\"stddev\").attrib[\"value\"])\n",
    "        self.rankList = []\n",
    "        xmlRankLists = root.find(\"statistics\")[0].find(\"ranks\")\n",
    "        for r in xmlRankLists:\n",
    "            self.rankList.append(r.attrib[\"friendlyname\"].strip())\n",
    "    def __str__(self):\n",
    "        return \"[\" + self.name + \"] (\" + self.year + \") players:\" + str(self.numPlayer) + \\\n",
    "            \" time: \" + str(self.playTime) + \" rating: \" + str(self.avgRating)\n",
    "xmlFiles = [f for f in listdir(\"GamesXML/\") if \".xml\" in f]\n",
    "\n",
    "boardgameDict = {}\n",
    "mechanicsDict = {}\n",
    "familyDict = {}\n",
    "categoryDict = {}\n",
    "for f in xmlFiles:\n",
    "    tree = ET.parse(\"GamesXML/\" + f)\n",
    "    root = tree.getroot()\n",
    "    for item in root:\n",
    "        boardgame = BoardGame(item)\n",
    "        boardGameDict[boardgame.id] = boardgame\n",
    "        for m in boardgame.mechanics:\n",
    "            mechanics[m[0]] = m[1]\n",
    "        for f in boardgame.family:\n",
    "            family[f[0]] = f[1]\n",
    "        for c in boardgame.category:\n",
    "            category[c[0]] = c[1]"
   ]
  },
  {
   "cell_type": "code",
   "execution_count": 58,
   "metadata": {
    "collapsed": false
   },
   "outputs": [],
   "source": [
    "def filterUniqueGames(currentList):\n",
    "    newList = []\n",
    "    for g in currentList:\n",
    "        add = True\n",
    "        for id in g.implementations:\n",
    "            if id in newDict:\n",
    "                add = False\n",
    "                break\n",
    "        if add:\n",
    "            newList.append(g)\n",
    "    return newList\n",
    "\n",
    "def filterGamesWithMinUsers(currentList, users):\n",
    "    newList = []\n",
    "    for g in currentList:\n",
    "        if g.usersRating > users or g.usersOwned > users:\n",
    "            newList.append(g)\n",
    "    return newList\n",
    "\n",
    "def filterGamesWithYear(currentList, minYear=-1, maxYear=-1):\n",
    "    newList = []\n",
    "    for g in currentList:\n",
    "        if (minYear <= 0 or g.year >= minYear) and (maxYear <= 0 or g.year <= maxYear):\n",
    "            newList.append(g)\n",
    "    return newList\n",
    "\n",
    "def filterGamesWithName(currentList, name):\n",
    "    newList = []\n",
    "    for g in currentList:\n",
    "        if name.strip().lower() in g.name.strip().lower():\n",
    "            newList.append(g)\n",
    "    return newList"
   ]
  },
  {
   "cell_type": "code",
   "execution_count": null,
   "metadata": {
    "collapsed": false
   },
   "outputs": [],
   "source": [
    "currentList = boardgameDict.values()\n",
    "for g in findGamesWithName(currentList, \"dog\"):\n",
    "    print(g)"
   ]
  },
  {
   "cell_type": "code",
   "execution_count": 52,
   "metadata": {
    "collapsed": false
   },
   "outputs": [
    {
     "name": "stdout",
     "output_type": "stream",
     "text": [
      "(0, 2)\n"
     ]
    }
   ],
   "source": []
  },
  {
   "cell_type": "code",
   "execution_count": null,
   "metadata": {
    "collapsed": true
   },
   "outputs": [],
   "source": []
  }
 ],
 "metadata": {
  "anaconda-cloud": {},
  "kernelspec": {
   "display_name": "Python [default]",
   "language": "python",
   "name": "python3"
  },
  "language_info": {
   "codemirror_mode": {
    "name": "ipython",
    "version": 3
   },
   "file_extension": ".py",
   "mimetype": "text/x-python",
   "name": "python",
   "nbconvert_exporter": "python",
   "pygments_lexer": "ipython3",
   "version": "3.5.2"
  }
 },
 "nbformat": 4,
 "nbformat_minor": 1
}
